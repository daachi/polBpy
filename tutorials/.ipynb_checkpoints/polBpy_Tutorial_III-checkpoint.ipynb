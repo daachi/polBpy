{
 "cells": [
  {
   "cell_type": "code",
   "execution_count": 1,
   "id": "98ade059",
   "metadata": {},
   "outputs": [],
   "source": [
    "%matplotlib inline"
   ]
  },
  {
   "cell_type": "markdown",
   "id": "d86d4dc8",
   "metadata": {},
   "source": [
    "# DISPERSION ANALYSIS I\n",
    "Author: Jordan Guerra (for Villanova University). February 2024.\n",
    "\n",
    "This tutorial illustrates the basic use of the package *polBpy* for performing the angular dispersion analysis for studying the magnetoturbulent state of gas using dust polarimetric observations. Parameters determined can be used for DCF calaculations.\n",
    "\n",
    "This tutorial uses data from literature listed [here.](https://github.com/jorgueagui/polBpy/blob/9039d4af5d25c49130bf51be7fe0ce363424edcc/refs.md)\n",
    "\n",
    "**EXAMPLE I**: This example shows how to perform the glaobal dispersion analysis for a single, masked region of gas. This analysis involves: i) calculating the autocorrelation function of the polarized flux, and measuring it width as estimation of the cloud's depnth; ii) calcualting the two-point struture function;, ii) fitting the two-point structure function with the two-scale model of Houde et. al. (2009, 2010) using a MCMC approach and determining the magnetotubrulent parameters. We reproduce here some results from Butterfiel et. al. (2024), which presents results of the Galactic center's M0.8-0.2 ring using observations of SOFIA/HAWC+."
   ]
  },
  {
   "cell_type": "code",
   "execution_count": 2,
   "id": "6c89b3a8",
   "metadata": {},
   "outputs": [],
   "source": [
    "import os\n",
    "os.chdir(os.path.expanduser(\"/Users/jguerraa/Desktop/polBpy\"))\n",
    "from polBpy import dispersion\n",
    "import numpy as np\n",
    "import matplotlib.pyplot as plt"
   ]
  },
  {
   "cell_type": "markdown",
   "id": "7fbbe31a",
   "metadata": {},
   "source": [
    "In this example we try to reproduce values from Butterfield et. al. (2024). First, we calculate the autocorrelation function using the 214 $\\mu$m data from a FITS file"
   ]
  },
  {
   "cell_type": "code",
   "execution_count": 3,
   "id": "322270ce",
   "metadata": {},
   "outputs": [
    {
     "name": "stdout",
     "output_type": "stream",
     "text": [
      "Filename: /Users/jguerraa/Desktop/polBpy/tutorials/PolBpy_Tutorial_III_data.fits\n",
      "No.    Name      Ver    Type      Cards   Dimensions   Format\n",
      "  0  STOKES I      1 PrimaryHDU     942   (103, 103)   float64   \n",
      "  1  ERROR I       1 ImageHDU        19   (103, 103)   float64   \n",
      "  2  STOKES Q      1 ImageHDU        19   (103, 103)   float64   \n",
      "  3  ERROR Q       1 ImageHDU        19   (103, 103)   float64   \n",
      "  4  STOKES U      1 ImageHDU        19   (103, 103)   float64   \n",
      "  5  ERROR U       1 ImageHDU        19   (103, 103)   float64   \n",
      "  6  IMAGE MASK    1 ImageHDU        30   (103, 103)   float64   \n",
      "  7  PERCENT POL    1 ImageHDU        19   (103, 103)   float64   \n",
      "  8  DEBIASED PERCENT POL    1 ImageHDU        19   (103, 103)   float64   \n",
      "  9  ERROR PERCENT POL    1 ImageHDU        19   (103, 103)   float64   \n",
      " 10  POL ANGLE     1 ImageHDU        19   (103, 103)   float64   \n",
      " 11  ROTATED POL ANGLE    1 ImageHDU        19   (103, 103)   float64   \n",
      " 12  ERROR POL ANGLE    1 ImageHDU        19   (103, 103)   float64   \n",
      " 13  POL FLUX      1 ImageHDU        19   (103, 103)   float64   \n",
      " 14  ERROR POL FLUX    1 ImageHDU        19   (103, 103)   float64   \n",
      " 15  DEBIASED POL FLUX    1 ImageHDU        19   (103, 103)   float64   \n",
      " 16  POL DATA      1 BinTableHDU     34   840316R x 10C   [J, J, D, D, D, D, D, D, D, D]   \n",
      " 17  FINAL POL DATA    1 BinTableHDU     30   24569R x 8C   [D, D, D, D, D, D, D, D]   \n",
      "None\n"
     ]
    }
   ],
   "source": [
    "from astropy.io import fits\n",
    "file = \"/Users/jguerraa/Desktop/polBpy/tutorials/PolBpy_Tutorial_III_data.fits\"\n",
    "data = fits.open(file)\n",
    "print(data.info())"
   ]
  },
  {
   "cell_type": "markdown",
   "id": "726895dd",
   "metadata": {},
   "source": [
    "First, we define the mask. This correspodn to the area in which p/p_err > 3.0 and flux < 5000 MJy/sr"
   ]
  },
  {
   "cell_type": "code",
   "execution_count": 13,
   "id": "35c58a24",
   "metadata": {},
   "outputs": [
    {
     "data": {
      "text/plain": [
       "Text(0.5, 1.0, 'Pixel Mask')"
      ]
     },
     "execution_count": 13,
     "metadata": {},
     "output_type": "execute_result"
    },
    {
     "data": {
      "image/png": "[encoded data removed]",
      "text/plain": [
       "<Figure size 640x480 with 1 Axes>"
      ]
     },
     "metadata": {},
     "output_type": "display_data"
    }
   ],
   "source": [
    "p_flux = data['DEBIASED POL FLUX'].data # \n",
    "p_flux_err = data['ERROR POL FLUX'].data #\n",
    "stokes_I = data['STOKES I'].data #\n",
    "pixel_size = data[0].header['CDELT2']*3600 #in arcsec\n",
    "beam_area=(float(pixel_size)/3600*np.pi/180)**2 #in sr\n",
    "stokes_I /= beam_area \n",
    "stokes_I /= 1E+6 # In MJy/sr\n",
    "#\n",
    "m = np.where((p_flux/p_flux_err > 3.0) & (stokes_I > 5000.0))\n",
    "pixel_mask = np.full_like(stokes_I,0.0)\n",
    "pixel_mask[m] = 1.0\n",
    "plt.imshow(pixel_mask,origin='lower')\n",
    "plt.title('Pixel Mask')"
   ]
  },
  {
   "cell_type": "markdown",
   "id": "16b3bb5c",
   "metadata": {},
   "source": [
    "We can also, define a region mask, in order to focus on a region of interest. We want to inlcude data only up to ~ 9 pc from the center of the ring,In order to obtain the cloud's depth in physical unit, we can express the pixel size in arcseconds"
   ]
  },
  {
   "cell_type": "code",
   "execution_count": 17,
   "id": "0869e20d",
   "metadata": {},
   "outputs": [
    {
     "name": "stdout",
     "output_type": "stream",
     "text": [
      "Filename: /Users/jguerraa/Desktop/polBpy/tutorials/PolBpy_Tutorial_III_mask.fits\n",
      "No.    Name      Ver    Type      Cards   Dimensions   Format\n",
      "  0  STOKES I      1 PrimaryHDU     940   ()      \n",
      "  1  MASK          1 ImageHDU         8   (103, 103)   float64   \n",
      "None\n"
     ]
    },
    {
     "data": {
      "text/plain": [
       "Text(0.5, 1.0, 'Region Mask')"
      ]
     },
     "execution_count": 17,
     "metadata": {},
     "output_type": "execute_result"
    },
    {
     "data": {
      "image/png": "[encoded data removed]",
      "text/plain": [
       "<Figure size 640x480 with 1 Axes>"
      ]
     },
     "metadata": {},
     "output_type": "display_data"
    }
   ],
   "source": [
    "file = \"/Users/jguerraa/Desktop/polBpy/tutorials/PolBpy_Tutorial_III_mask.fits\"\n",
    "data_mask = fits.open(file)\n",
    "print(data_mask.info())\n",
    "region_mask = data_mask[1].data\n",
    "plt.imshow(region_mask,origin='lower')\n",
    "plt.title('Region Mask')"
   ]
  },
  {
   "cell_type": "code",
   "execution_count": 10,
   "id": "dc5c0497",
   "metadata": {},
   "outputs": [
    {
     "data": {
      "image/png": "[encoded data removed]",
      "text/plain": [
       "<Figure size 640x480 with 1 Axes>"
      ]
     },
     "metadata": {},
     "output_type": "display_data"
    },
    {
     "data": {
      "image/png": "[encoded data removed]",
      "text/plain": [
       "<Figure size 700x700 with 1 Axes>"
      ]
     },
     "metadata": {},
     "output_type": "display_data"
    }
   ],
   "source": [
    "res = dispersion.autocorrelation(p_flux,p_flux_err,pixel_size,mask=mask,plots=True,hwhm=True)"
   ]
  },
  {
   "cell_type": "markdown",
   "id": "f6d83fcf",
   "metadata": {},
   "source": [
    "Now we call DCF_range "
   ]
  },
  {
   "cell_type": "code",
   "execution_count": 11,
   "id": "b1227454",
   "metadata": {},
   "outputs": [
    {
     "name": "stdout",
     "output_type": "stream",
     "text": [
      "(array([1.03302779]), array([0.04155714]))\n"
     ]
    }
   ],
   "source": [
    "print(res)"
   ]
  },
  {
   "cell_type": "markdown",
   "id": "b54ed0d4",
   "metadata": {},
   "source": [
    "The result of this calculation is three numbers: 5, 50, and 95 percentiles of the Bpos distribution of values."
   ]
  },
  {
   "cell_type": "code",
   "execution_count": null,
   "id": "fa8bd541",
   "metadata": {},
   "outputs": [],
   "source": [
    "print(\"Median Bpos = %2.2f [mG]\"%(bpos[1]/1000.))"
   ]
  },
  {
   "cell_type": "code",
   "execution_count": null,
   "id": "b03ed15e",
   "metadata": {},
   "outputs": [],
   "source": [
    "print(\"5-percentile Bpos = %2.2f [mG]\"%(bpos[0]/1000.))"
   ]
  },
  {
   "cell_type": "code",
   "execution_count": null,
   "id": "309e7819",
   "metadata": {},
   "outputs": [],
   "source": [
    "print(\"95-percentile Bpos = %2.2f [mG]\"%(bpos[2]/1000.))"
   ]
  },
  {
   "cell_type": "markdown",
   "id": "606d333e",
   "metadata": {},
   "source": [
    "Now including the uncertainties of the used variables"
   ]
  },
  {
   "cell_type": "code",
   "execution_count": null,
   "id": "e196bc3f",
   "metadata": {},
   "outputs": [],
   "source": [
    "ucol_den = col_den.copy()\n",
    "ucol_den[:] = 0.0\n",
    "uvel_disp = vel_disp.copy()\n",
    "uvel_disp[:] = 0.0\n",
    "uang_disp = 0.07\n",
    "ucloud_depth = 0.51E+18"
   ]
  },
  {
   "cell_type": "code",
   "execution_count": null,
   "id": "61fc9b4d",
   "metadata": {},
   "outputs": [],
   "source": [
    "bpos = DCF.dcf_range(col_den,vel_disp,ang_disp,rho=False,m_cdepth=cloud_depth,m_uden=ucol_den,m_uvel=uvel_disp,m_udisp=uang_disp,m_ucdepth=ucloud_depth)"
   ]
  },
  {
   "cell_type": "markdown",
   "id": "4b1b117b",
   "metadata": {},
   "source": [
    "In this case, each list element is a tuple in the form (median,sigma):"
   ]
  },
  {
   "cell_type": "code",
   "execution_count": null,
   "id": "7bdc6b6b",
   "metadata": {},
   "outputs": [],
   "source": [
    "print(\"Median Bpos = %2.2f +/- %2.2f [mG]\"%(bpos[1][0]/1000.,bpos[1][1]/1000.))"
   ]
  },
  {
   "cell_type": "code",
   "execution_count": null,
   "id": "9025d4e3",
   "metadata": {},
   "outputs": [],
   "source": [
    "print(\"5-percentile Bpos = %2.2f +/- %2.2f [mG]\"%(bpos[0][0]/1000.,bpos[0][1]/1000.))"
   ]
  },
  {
   "cell_type": "code",
   "execution_count": null,
   "id": "03662a9b",
   "metadata": {},
   "outputs": [],
   "source": [
    "print(\"95-percentile Bpos = %2.2f +/- %2.2f [mG]\"%(bpos[2][0]/1000.,bpos[2][1]/1000.))"
   ]
  },
  {
   "cell_type": "markdown",
   "id": "b43ff850",
   "metadata": {},
   "source": [
    "**EXAMPLE II**: This example shows how to calculate statistical (median, 5th, 95th) values of $B_{POS}$\n",
    "  using the large-scale and shear flow DCF approximation. We reproduce some results from Guerra et. al. (2023), which presents results of the CND using observations of SOFIA/HAWC+.\n",
    "In this case, we need the information of the large-scale flow..."
   ]
  },
  {
   "cell_type": "code",
   "execution_count": null,
   "id": "253b9ed3",
   "metadata": {},
   "outputs": [],
   "source": [
    "ls_flow = data['POS_VEL'].data # km/s\n",
    "ls_flow_err = data['POS_VEL_ERROR'].data # km/s"
   ]
  },
  {
   "cell_type": "markdown",
   "id": "d475f1f9",
   "metadata": {},
   "source": [
    "First, calculate the DCF using the large scale modification,"
   ]
  },
  {
   "cell_type": "code",
   "execution_count": null,
   "id": "78e9e54f",
   "metadata": {},
   "outputs": [],
   "source": [
    "bpos = DCF.dcf_range(col_den,vel_disp,ang_disp,m_flow=ls_flow,dcftype='ls-flow',rho=False,m_cdepth=cloud_depth,m_uden=ucol_den,m_uvel=uvel_disp,m_udisp=uang_disp,m_ucdepth=ucloud_depth,m_uflow=ls_flow_err)"
   ]
  },
  {
   "cell_type": "code",
   "execution_count": null,
   "id": "b0f261d7",
   "metadata": {},
   "outputs": [],
   "source": [
    "print(\"Median Bpos = %2.2f +/- %2.2f [mG]\"%(bpos[1][0]/1000.,bpos[1][1]/1000.))"
   ]
  },
  {
   "cell_type": "code",
   "execution_count": null,
   "id": "360fe4a3",
   "metadata": {},
   "outputs": [],
   "source": [
    "print(\"5-percentile Bpos = %2.2f +/- %2.2f [mG]\"%(bpos[0][0]/1000.,bpos[0][1]/1000.))"
   ]
  },
  {
   "cell_type": "code",
   "execution_count": null,
   "id": "124413fe",
   "metadata": {},
   "outputs": [],
   "source": [
    "print(\"95-percentile Bpos = %2.2f +/- %2.2f [mG]\"%(bpos[2][0]/1000.,bpos[2][1]/1000.))"
   ]
  },
  {
   "cell_type": "markdown",
   "id": "69463be4",
   "metadata": {},
   "source": [
    "Next, to use the shear flow approximation, we need the Laplacian of the POS velocity field"
   ]
  },
  {
   "cell_type": "code",
   "execution_count": null,
   "id": "1029df09",
   "metadata": {},
   "outputs": [],
   "source": [
    "ls_flow_lap = data['POS_VEL_LAP'].data # km/s/pix/pix"
   ]
  },
  {
   "cell_type": "markdown",
   "id": "7b941f43",
   "metadata": {},
   "source": [
    "In order to give the laplacian physical units of km/s, we need to choose a scale. we write c = cloud_depth/pixsize and normilized the laplacian as"
   ]
  },
  {
   "cell_type": "code",
   "execution_count": null,
   "id": "bbfee663",
   "metadata": {},
   "outputs": [],
   "source": [
    "pixsize = 1.50E+17\n",
    "c = cloud_depth/pixsize\n",
    "ls_flow_lap *= c**2\n",
    "print(c)"
   ]
  },
  {
   "cell_type": "code",
   "execution_count": null,
   "id": "c7b4c488",
   "metadata": {},
   "outputs": [],
   "source": [
    "bpos = DCF.dcf_range(col_den,vel_disp,ang_disp,m_flow=ls_flow,m_flow_lap=ls_flow_lap,dcftype='shear-flow',rho=False,m_cdepth=cloud_depth,m_uden=ucol_den,m_uvel=uvel_disp,m_udisp=uang_disp,m_ucdepth=ucloud_depth,m_uflow=ls_flow_err)"
   ]
  },
  {
   "cell_type": "code",
   "execution_count": null,
   "id": "d0df5dc6",
   "metadata": {},
   "outputs": [],
   "source": [
    "print(\"Median Bpos = %2.2f +/- %2.2f [mG]\"%(bpos[1][0]/1000.,bpos[1][1]/1000.))"
   ]
  },
  {
   "cell_type": "code",
   "execution_count": null,
   "id": "5f0f24ce",
   "metadata": {},
   "outputs": [],
   "source": [
    "print(\"5-percentile Bpos = %2.2f +/- %2.2f [mG]\"%(bpos[0][0]/1000.,bpos[0][1]/1000.))"
   ]
  },
  {
   "cell_type": "code",
   "execution_count": null,
   "id": "e51ae10d",
   "metadata": {},
   "outputs": [],
   "source": [
    "print(\"95-percentile Bpos = %2.2f +/- %2.2f [mG]\"%(bpos[2][0]/1000.,bpos[2][1]/1000.))"
   ]
  },
  {
   "cell_type": "code",
   "execution_count": null,
   "id": "4eeed52d",
   "metadata": {},
   "outputs": [],
   "source": [
    "np.nanmin(ls_flow_lap)"
   ]
  },
  {
   "cell_type": "code",
   "execution_count": null,
   "id": "f353652b",
   "metadata": {},
   "outputs": [],
   "source": [
    "np.nanmax(ls_flow_lap)"
   ]
  },
  {
   "cell_type": "code",
   "execution_count": null,
   "id": "ec07c169",
   "metadata": {},
   "outputs": [],
   "source": []
  }
 ],
 "metadata": {
  "kernelspec": {
   "display_name": "Python 3 (ipykernel)",
   "language": "python",
   "name": "python3"
  },
  "language_info": {
   "codemirror_mode": {
    "name": "ipython",
    "version": 3
   },
   "file_extension": ".py",
   "mimetype": "text/x-python",
   "name": "python",
   "nbconvert_exporter": "python",
   "pygments_lexer": "ipython3",
   "version": "3.9.13"
  }
 },
 "nbformat": 4,
 "nbformat_minor": 5
}
