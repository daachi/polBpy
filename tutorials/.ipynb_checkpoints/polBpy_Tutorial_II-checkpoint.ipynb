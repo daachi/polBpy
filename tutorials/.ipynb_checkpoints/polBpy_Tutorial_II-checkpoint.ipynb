{
 "cells": [
  {
   "cell_type": "code",
   "execution_count": 1,
   "id": "98ade059",
   "metadata": {},
   "outputs": [],
   "source": [
    "%matplotlib inline"
   ]
  },
  {
   "cell_type": "markdown",
   "id": "d86d4dc8",
   "metadata": {},
   "source": [
    "# PLANE OF SKY (POS) MAGNETIC FIELD STRENGTH II\n",
    "Author: Jordan Guerra (for Villanova University). January 2024.\n",
    "\n",
    "This tutorial illustrate the use of some advanced functions of the python package *polBpy* for calculating the POS magnetic field strength using different Davis-Chandrasekhar-Fermi (DCF) approximations.\n",
    "\n",
    "This tutorial uses data from literature listed [here.](https://github.com/jorgueagui/polBpy/blob/9039d4af5d25c49130bf51be7fe0ce363424edcc/refs.md)\n",
    "\n",
    "**EXAMPLE I**: This example shows how to calculate the statistical range (median, 5th, 95th) of $B_{\\rm POS}$\n",
    "  using the classical DCF approximation. This option is available for cases when there is mix of input types for the varaibles needed for DCF methods (maps or single values). In such cases, spatial distributions are not reliable but the statistical range can give you a sense of how much $B_{\\rm POS} varies over the field of study. \n",
    "  \n",
    "We reproduce some values from Guerra+23, which presents results of the CND using observations of SOFIA/HAWC+."
   ]
  },
  {
   "cell_type": "code",
   "execution_count": 2,
   "id": "6c89b3a8",
   "metadata": {},
   "outputs": [],
   "source": [
    "from polBpy import DCF\n",
    "import numpy as np"
   ]
  },
  {
   "cell_type": "markdown",
   "id": "7fbbe31a",
   "metadata": {},
   "source": [
    "First, we calculate the $B_{\\rm POS}$ for the entire CND using the 53 $\\mu$m data and the classical DCF approximation. In this case, we use maps (rather than single values) of colunm density ($N_{H}$) and velocity dispersion ($\\sigma_{v}$) but a single-value polarization angle dispersion (Table 5). We read these maps from a FITS file"
   ]
  },
  {
   "cell_type": "code",
   "execution_count": 3,
   "id": "322270ce",
   "metadata": {},
   "outputs": [
    {
     "name": "stdout",
     "output_type": "stream",
     "text": [
      "Filename: /Users/jguerraa/Desktop/polBpy/tutorials/PolBpy_Tutorial_II_data.fits\n",
      "No.    Name      Ver    Type      Cards   Dimensions   Format\n",
      "  0  STOKES I      1 PrimaryHDU     566   ()      \n",
      "  1  COL_DEN       1 ImageHDU         8   (122, 126)   float64   \n",
      "  2  VEL_DISP      1 ImageHDU         8   (122, 126)   float64   \n",
      "  3  POS_VEL       1 ImageHDU         8   (122, 126)   float64   \n",
      "  4  POS_VEL_ERROR    1 ImageHDU         8   (122, 126)   float64   \n",
      "  5  POS_VEL_LAP    1 ImageHDU         8   (122, 126)   float64   \n",
      "  6  POS_VEL_LAP_ERROR    1 ImageHDU         8   (122, 126)   float64   \n",
      "None\n"
     ]
    }
   ],
   "source": [
    "from astropy.io import fits\n",
    "import os\n",
    "cdir = os.path.dirname(os.getcwd())\n",
    "file = cdir+\"/data/PolBpy_Tutorial_II_data.fits\"\n",
    "data = fits.open(file)\n",
    "print(data.info())"
   ]
  },
  {
   "cell_type": "code",
   "execution_count": 4,
   "id": "35c58a24",
   "metadata": {},
   "outputs": [],
   "source": [
    "col_den = data['COL_DEN'].data # cm^-2\n",
    "vel_disp = data['VEL_DISP'].data # km/s"
   ]
  },
  {
   "cell_type": "markdown",
   "id": "16b3bb5c",
   "metadata": {},
   "source": [
    "Note:\n",
    "\n",
    "Velocity dispserion values are affected by the observations' resolution. In this case, these values were previously corrected according to this relation \n",
    "\n",
    "$\\sigma_{v}=\\left( \\frac{L_{o}}{L_{target}}\\right)^{0.5}\\times \\sigma_{v,o}$\n",
    "\n",
    "Where $\\sigma_{v,o}$ is the velocity dispersion values at their original resolution ($L_{o}$), and $L_{target}$ is the new resolution, typically that of the polarimatrix data. Check Houde+09, Chuss+19, Guerra+21 for further deatils on this correction. "
   ]
  },
  {
   "cell_type": "markdown",
   "id": "37678f5e",
   "metadata": {},
   "source": [
    "While the cloud's depth ($D$) and angular dispersion ($\\sigma_{\\phi}$) can be single values"
   ]
  },
  {
   "cell_type": "code",
   "execution_count": 5,
   "id": "dc5c0497",
   "metadata": {},
   "outputs": [],
   "source": [
    "cloud_depth = 3.38E+18 # cm\n",
    "ang_disp = 0.48 # rad"
   ]
  },
  {
   "cell_type": "markdown",
   "id": "f6d83fcf",
   "metadata": {},
   "source": [
    "Having all the variables needed, we call DCF_range function"
   ]
  },
  {
   "cell_type": "code",
   "execution_count": 6,
   "id": "b1227454",
   "metadata": {},
   "outputs": [
    {
     "name": "stdout",
     "output_type": "stream",
     "text": [
      "Variable:  Pol Angle dispersion is a single value. Creating an array with this value.\n"
     ]
    }
   ],
   "source": [
    "bpos = DCF.dcf_range(col_den,vel_disp,ang_disp,rho=False,m_cdepth=cloud_depth)"
   ]
  },
  {
   "cell_type": "markdown",
   "id": "b54ed0d4",
   "metadata": {},
   "source": [
    "The result of this calculation is a list with three numbers: 5, 50, and 95 percentiles of the Bpos distribution of values (no uncertainties are in the output since none were given in the input)"
   ]
  },
  {
   "cell_type": "code",
   "execution_count": 7,
   "id": "fa8bd541",
   "metadata": {},
   "outputs": [
    {
     "name": "stdout",
     "output_type": "stream",
     "text": [
      "Median Bpos = 7.4 [mG]\n"
     ]
    }
   ],
   "source": [
    "print(\"Median Bpos = %2.1f [mG]\"%(bpos[1]/1000.)) # Divided by 1000 to make miliGauss (mG)"
   ]
  },
  {
   "cell_type": "code",
   "execution_count": 8,
   "id": "b03ed15e",
   "metadata": {},
   "outputs": [
    {
     "name": "stdout",
     "output_type": "stream",
     "text": [
      "5th-percentile Bpos = 5.4 [mG]\n"
     ]
    }
   ],
   "source": [
    "print(\"5th-percentile Bpos = %2.1f [mG]\"%(bpos[0]/1000.))"
   ]
  },
  {
   "cell_type": "code",
   "execution_count": 9,
   "id": "309e7819",
   "metadata": {},
   "outputs": [
    {
     "name": "stdout",
     "output_type": "stream",
     "text": [
      "95th-percentile Bpos = 10.0 [mG]\n"
     ]
    }
   ],
   "source": [
    "print(\"95th-percentile Bpos = %2.1f [mG]\"%(bpos[2]/1000.))"
   ]
  },
  {
   "cell_type": "markdown",
   "id": "606d333e",
   "metadata": {},
   "source": [
    "In a more compact way, these values can be reported as\n",
    "\n",
    "\n",
    "$B_{\\rm POS}$ = 7.4 [mG] (5.4 -- 10 [mG])\n",
    "\n",
    "where the fisrt number is the median values and in paranthesis is the 5th - 95th percentile of the distrbution.\n",
    "\n",
    "Now we can include the uncertainties of some of variables (keep the same input format for variables and their uncertainties. For example if $N_{H}$ is an array, its uncertainty must be an array as well)"
   ]
  },
  {
   "cell_type": "code",
   "execution_count": 10,
   "id": "e196bc3f",
   "metadata": {},
   "outputs": [],
   "source": [
    "ucol_den = col_den.copy()\n",
    "ucol_den[:] = 0.0 # an array of zeros for colunm denisty\n",
    "uvel_disp = vel_disp.copy()\n",
    "uvel_disp[:] = 0.0 # an array of zeros for velocity dispersion\n",
    "uang_disp = 0.07 # single value\n",
    "ucloud_depth = 0.51E+18 # single value"
   ]
  },
  {
   "cell_type": "markdown",
   "id": "73fb094c",
   "metadata": {},
   "source": [
    "For this function you must specify the DCF approximation to use. The classical option is the default value"
   ]
  },
  {
   "cell_type": "code",
   "execution_count": 11,
   "id": "61fc9b4d",
   "metadata": {},
   "outputs": [
    {
     "name": "stdout",
     "output_type": "stream",
     "text": [
      "Variable:  Pol Angle dispersion is a single value. Creating an array with this value.\n"
     ]
    }
   ],
   "source": [
    "bpos = DCF.dcf_range(col_den,vel_disp,ang_disp,rho=False,m_cdepth=cloud_depth,m_uden=ucol_den,m_uvel=uvel_disp,\n",
    "                     m_udisp=uang_disp,m_ucdepth=ucloud_depth)"
   ]
  },
  {
   "cell_type": "markdown",
   "id": "4b1b117b",
   "metadata": {},
   "source": [
    "In this case, each list element is a tuple in the form (value,uncertainty)"
   ]
  },
  {
   "cell_type": "code",
   "execution_count": 12,
   "id": "7bdc6b6b",
   "metadata": {},
   "outputs": [
    {
     "name": "stdout",
     "output_type": "stream",
     "text": [
      "Median Bpos = 7.4 +/- 1.2 [mG]\n"
     ]
    }
   ],
   "source": [
    "print(\"Median Bpos = %2.1f +/- %2.1f [mG]\"%(bpos[1][0]/1000.,bpos[1][1]/1000.))"
   ]
  },
  {
   "cell_type": "code",
   "execution_count": 13,
   "id": "9025d4e3",
   "metadata": {},
   "outputs": [
    {
     "name": "stdout",
     "output_type": "stream",
     "text": [
      "5th-percentile Bpos = 5.4 +/- 0.9 [mG]\n"
     ]
    }
   ],
   "source": [
    "print(\"5th-percentile Bpos = %2.1f +/- %2.1f [mG]\"%(bpos[0][0]/1000.,bpos[0][1]/1000.))"
   ]
  },
  {
   "cell_type": "code",
   "execution_count": 14,
   "id": "03662a9b",
   "metadata": {},
   "outputs": [
    {
     "name": "stdout",
     "output_type": "stream",
     "text": [
      "95th-percentile Bpos = 10.0 +/- 1.6 [mG]\n"
     ]
    }
   ],
   "source": [
    "print(\"95th-percentile Bpos = %2.1f +/- %2.1f [mG]\"%(bpos[2][0]/1000.,bpos[2][1]/1000.))"
   ]
  },
  {
   "cell_type": "markdown",
   "id": "b808d36a",
   "metadata": {},
   "source": [
    "Similarly to the result above\n",
    "\n",
    "$B_{\\rm POS}$ = 7.3$\\pm$1.2 [mG] (5.4$\\pm$0.9 -- 10$\\pm$1.6 [mG])"
   ]
  },
  {
   "cell_type": "markdown",
   "id": "b43ff850",
   "metadata": {},
   "source": [
    "**EXAMPLE II**: This example shows how to calculate statistical range (median, 5th, 95th) of $B_{\\rm POS}$\n",
    "  using the large-scale and shear flow DCF approximation. We reproduce some results from Guerra et. al. (2023), which presents results for the entire CND using observations of SOFIA/HAWC+.\n",
    "  \n",
    "In this case, we need the information of the large-scale flow (in addition to variables already defined avobe). These  can be maps or single values. Flow velocity information should be specified in km/s"
   ]
  },
  {
   "cell_type": "code",
   "execution_count": 15,
   "id": "253b9ed3",
   "metadata": {},
   "outputs": [],
   "source": [
    "ls_flow = data['POS_VEL'].data # km/s\n",
    "ls_flow_err = data['POS_VEL_ERROR'].data # km/s"
   ]
  },
  {
   "cell_type": "markdown",
   "id": "d475f1f9",
   "metadata": {},
   "source": [
    "First, let us calculate $B_{\\rm POS}$ using the large-scale modification to DCF. For this case, set *dcf_type='ls-flow'*"
   ]
  },
  {
   "cell_type": "code",
   "execution_count": 16,
   "id": "78e9e54f",
   "metadata": {},
   "outputs": [
    {
     "name": "stdout",
     "output_type": "stream",
     "text": [
      "Variable:  Pol Angle dispersion is a single value. Creating an array with this value.\n"
     ]
    }
   ],
   "source": [
    "bpos = DCF.dcf_range(col_den,vel_disp,ang_disp,m_flow=ls_flow,dcftype='ls-flow',rho=False,m_cdepth=cloud_depth,\n",
    "                     m_uden=ucol_den,m_uvel=uvel_disp,m_udisp=uang_disp,m_ucdepth=ucloud_depth,m_uflow=ls_flow_err)"
   ]
  },
  {
   "cell_type": "code",
   "execution_count": 17,
   "id": "b0f261d7",
   "metadata": {},
   "outputs": [
    {
     "name": "stdout",
     "output_type": "stream",
     "text": [
      "Median Bpos = 2.9 +/- 1.5 [mG]\n"
     ]
    }
   ],
   "source": [
    "print(\"Median Bpos = %2.1f +/- %2.1f [mG]\"%(bpos[1][0]/1000.,bpos[1][1]/1000.))"
   ]
  },
  {
   "cell_type": "code",
   "execution_count": 18,
   "id": "360fe4a3",
   "metadata": {},
   "outputs": [
    {
     "name": "stdout",
     "output_type": "stream",
     "text": [
      "5th-percentile Bpos = 0.4 +/- 1.8 [mG]\n"
     ]
    }
   ],
   "source": [
    "print(\"5th-percentile Bpos = %2.1f +/- %2.1f [mG]\"%(bpos[0][0]/1000.,bpos[0][1]/1000.))"
   ]
  },
  {
   "cell_type": "code",
   "execution_count": 19,
   "id": "124413fe",
   "metadata": {},
   "outputs": [
    {
     "name": "stdout",
     "output_type": "stream",
     "text": [
      "95th-percentile Bpos = 17.5 +/- 3.3 [mG]\n"
     ]
    }
   ],
   "source": [
    "print(\"95th-percentile Bpos = %2.1f +/- %2.1f [mG]\"%(bpos[2][0]/1000.,bpos[2][1]/1000.))"
   ]
  },
  {
   "cell_type": "markdown",
   "id": "69463be4",
   "metadata": {},
   "source": [
    "Similarly to **Example I**\n",
    "\n",
    "$B_{\\rm POS}$ = 3.0$\\pm$1.5 [mG] (0.5$\\pm$1.8 -- 17.6$\\pm$3.3 [mG])\n",
    "\n",
    "\n",
    "Next, to use the shear flow approximation, we need the Laplacian of the POS velocity field (also in the file)"
   ]
  },
  {
   "cell_type": "code",
   "execution_count": 20,
   "id": "1029df09",
   "metadata": {},
   "outputs": [],
   "source": [
    "ls_flow_lap = data['POS_VEL_LAP'].data # km/s/pix^2"
   ]
  },
  {
   "cell_type": "markdown",
   "id": "7b941f43",
   "metadata": {},
   "source": [
    "Laplacian was calculated using finite diferences for derivatives in each direction. In order to give the laplacian physical units of km/s, we need to choose a physical length scale. In Guerra+23 this scale was choosen equal to the cloud's depth. We write c = cloud_depth/pixsize, that is the cluod's depth in number of pixels. Thus, normalized the laplacian as"
   ]
  },
  {
   "cell_type": "code",
   "execution_count": 21,
   "id": "bbfee663",
   "metadata": {},
   "outputs": [],
   "source": [
    "pixsize = 1.50E+17 # in cm -- size of one pixel at 8.3 kpc\n",
    "c = cloud_depth/pixsize # number of pixels\n",
    "ls_flow_lap *= c**2"
   ]
  },
  {
   "cell_type": "markdown",
   "id": "0fb30816",
   "metadata": {},
   "source": [
    "When calling the *dcf_range* function remember selecting the shear flow option as *dcf_type='shear-flow'*"
   ]
  },
  {
   "cell_type": "code",
   "execution_count": 22,
   "id": "c7b4c488",
   "metadata": {},
   "outputs": [
    {
     "name": "stdout",
     "output_type": "stream",
     "text": [
      "Variable:  Pol Angle dispersion is a single value. Creating an array with this value.\n"
     ]
    }
   ],
   "source": [
    "bpos = DCF.dcf_range(col_den,vel_disp,ang_disp,m_flow=ls_flow,m_flow_lap=ls_flow_lap,dcftype='shear-flow',\n",
    "                     rho=False,m_cdepth=cloud_depth,m_uden=ucol_den,m_uvel=uvel_disp,m_udisp=uang_disp,\n",
    "                     m_ucdepth=ucloud_depth,m_uflow=ls_flow_err)"
   ]
  },
  {
   "cell_type": "code",
   "execution_count": 23,
   "id": "d0df5dc6",
   "metadata": {},
   "outputs": [
    {
     "name": "stdout",
     "output_type": "stream",
     "text": [
      "Median Bpos = 0.8 +/- 0.2 [mG]\n"
     ]
    }
   ],
   "source": [
    "print(\"Median Bpos = %2.1f +/- %2.1f [mG]\"%(bpos[1][0]/1000.,bpos[1][1]/1000.))"
   ]
  },
  {
   "cell_type": "code",
   "execution_count": 24,
   "id": "5f0f24ce",
   "metadata": {},
   "outputs": [
    {
     "name": "stdout",
     "output_type": "stream",
     "text": [
      "5-percentile Bpos = 0.2 +/- 0.6 [mG]\n"
     ]
    }
   ],
   "source": [
    "print(\"5-percentile Bpos = %2.1f +/- %2.1f [mG]\"%(bpos[0][0]/1000.,bpos[0][1]/1000.))"
   ]
  },
  {
   "cell_type": "code",
   "execution_count": 25,
   "id": "e51ae10d",
   "metadata": {},
   "outputs": [
    {
     "name": "stdout",
     "output_type": "stream",
     "text": [
      "95-percentile Bpos = 2.5 +/- 0.9 [mG]\n"
     ]
    }
   ],
   "source": [
    "print(\"95-percentile Bpos = %2.1f +/- %2.1f [mG]\"%(bpos[2][0]/1000.,bpos[2][1]/1000.))"
   ]
  },
  {
   "cell_type": "markdown",
   "id": "1bc46c07",
   "metadata": {},
   "source": [
    "Finally, using the shear flow modified DCF, we obtain $B_{\\rm POS}$ values\n",
    "\n",
    "$B_{\\rm POS}$ = 0.8$\\pm$1.5 [mG] (0.2$\\pm$0.6 -- 2.5$\\pm$0.9 [mG])"
   ]
  },
  {
   "cell_type": "markdown",
   "id": "fddec8e2",
   "metadata": {},
   "source": [
    "You can see these values are very similar to those of Guerra+23."
   ]
  },
  {
   "cell_type": "code",
   "execution_count": null,
   "id": "ff5725a4",
   "metadata": {},
   "outputs": [],
   "source": []
  }
 ],
 "metadata": {
  "kernelspec": {
   "display_name": "Python 3 (ipykernel)",
   "language": "python",
   "name": "python3"
  },
  "language_info": {
   "codemirror_mode": {
    "name": "ipython",
    "version": 3
   },
   "file_extension": ".py",
   "mimetype": "text/x-python",
   "name": "python",
   "nbconvert_exporter": "python",
   "pygments_lexer": "ipython3",
   "version": "3.9.13"
  }
 },
 "nbformat": 4,
 "nbformat_minor": 5
}
