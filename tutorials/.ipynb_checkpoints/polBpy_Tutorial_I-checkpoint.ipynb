{
 "cells": [
  {
   "cell_type": "code",
   "execution_count": 5,
   "id": "c55f34a6",
   "metadata": {},
   "outputs": [],
   "source": [
    "%matplotlib inline"
   ]
  },
  {
   "cell_type": "markdown",
   "id": "83959be0",
   "metadata": {},
   "source": [
    "# PLANE OF SKY (POS) MAGNETIC FIELD STRENGTH\n",
    "Author: Jordan Guerra (for Villanova University). December 2023.\n",
    "\n",
    "The purpose of this tuturial is to illustrate the use of the python package polBpy for the analysis of dust polarimetric observations to determine the magnetoturbulent properties of the gas and magnetic field strength. This tutorial will demonstrate:\n",
    "1. How to estimate the polarization angle dispersion according to the Houde et. al. (2009) method.\n",
    "2. To calculate the POS magnetic field strength using few DCF approximations: classical (Davis 1953, Fermi-Chandrasekhar 1953), compressional (Skadilis 2021), and shear-flow (Guerra 2020)."
   ]
  },
  {
   "cell_type": "markdown",
   "id": "896d3dfa",
   "metadata": {},
   "source": [
    "**EXAMPLE I:** First we reproduce some results from Chuss et. al. (2019) using SOFIA/HAWC+ observations of OMC-1."
   ]
  },
  {
   "cell_type": "code",
   "execution_count": 13,
   "id": "fafb91fd",
   "metadata": {},
   "outputs": [],
   "source": [
    "import os\n",
    "os.chdir(os.path.expanduser(\"/Users/jguerraa/Desktop/polb_dev\"))\n",
    "from polBpy import DCF"
   ]
  },
  {
   "cell_type": "markdown",
   "id": "35ca9502",
   "metadata": {},
   "source": [
    "First we calculate the POS B-field strength using the DCF approximation and values in Table 5 of Chuss+19, specifically"
   ]
  },
  {
   "cell_type": "code",
   "execution_count": 14,
   "id": "d6cf6b02",
   "metadata": {},
   "outputs": [],
   "source": [
    "col_den = 9.85E+22 #cm^-2\n",
    "vel_disp = 1.85 #kms-1\n",
    "cloud_depth = 4.34E+17 #cm\n",
    "ang_disp = (0.37)**0.5 # Root-square of <B_t^2>/<B_0^2>"
   ]
  },
  {
   "cell_type": "code",
   "execution_count": 25,
   "id": "3e0d109f",
   "metadata": {},
   "outputs": [],
   "source": [
    "bpos = DCF.dcf_classical(col_den,vel_disp,ang_disp,rho=False,cdepth=cloud_depth)"
   ]
  },
  {
   "cell_type": "code",
   "execution_count": 26,
   "id": "35a832d0",
   "metadata": {},
   "outputs": [
    {
     "name": "stdout",
     "output_type": "stream",
     "text": [
      "(1111.9107639357849, 0.0)\n"
     ]
    }
   ],
   "source": [
    "print(bpos) # In micro Gauss"
   ]
  },
  {
   "cell_type": "markdown",
   "id": "09f3694c",
   "metadata": {},
   "source": [
    "EXAMPLE II: Let us reproduce the calcuations from Lopez-Rodriguez+21."
   ]
  },
  {
   "cell_type": "code",
   "execution_count": 30,
   "id": "2a253a4f",
   "metadata": {},
   "outputs": [],
   "source": [
    "col_den = 9.85E+22 #cm^-2\n",
    "vel_disp = 1.85 #kms-1\n",
    "cloud_depth = 4.34E+17 #cm\n",
    "ang_disp = (0.37)**0.5 # Root-square of <B_t^2>/<B_0^2>\n",
    "u_col_den = 8.96E+22\n",
    "u_ang_disp = (0.005)**0.5 # Using the largest limit of the value in Table 4"
   ]
  },
  {
   "cell_type": "code",
   "execution_count": 31,
   "id": "38eccb15",
   "metadata": {},
   "outputs": [],
   "source": [
    "bpos = DCF.dcf_classical(col_den,vel_disp,ang_disp,rho=False,cdepth=cloud_depth,uden=u_col_den,udisp=u_ang_disp)"
   ]
  },
  {
   "cell_type": "code",
   "execution_count": 32,
   "id": "57f3bf85",
   "metadata": {},
   "outputs": [
    {
     "name": "stdout",
     "output_type": "stream",
     "text": [
      "(1111.9107639357849, 521.9788902021213)\n"
     ]
    }
   ],
   "source": [
    "print(bpos) # In micro Gauss"
   ]
  },
  {
   "cell_type": "code",
   "execution_count": null,
   "id": "e39e393e",
   "metadata": {},
   "outputs": [],
   "source": []
  }
 ],
 "metadata": {
  "kernelspec": {
   "display_name": "Python 3 (ipykernel)",
   "language": "python",
   "name": "python3"
  },
  "language_info": {
   "codemirror_mode": {
    "name": "ipython",
    "version": 3
   },
   "file_extension": ".py",
   "mimetype": "text/x-python",
   "name": "python",
   "nbconvert_exporter": "python",
   "pygments_lexer": "ipython3",
   "version": "3.9.13"
  }
 },
 "nbformat": 4,
 "nbformat_minor": 5
}
