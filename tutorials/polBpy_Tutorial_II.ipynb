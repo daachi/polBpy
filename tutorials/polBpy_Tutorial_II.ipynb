{
 "cells": [
  {
   "cell_type": "code",
   "execution_count": 1,
   "id": "98ade059",
   "metadata": {},
   "outputs": [],
   "source": [
    "%matplotlib inline"
   ]
  },
  {
   "cell_type": "markdown",
   "id": "d86d4dc8",
   "metadata": {},
   "source": [
    "# PLANE OF SKY (POS) MAGNETIC FIELD STRENGTH II\n",
    "Author: Jordan Guerra (for Villanova University). January 2024.\n",
    "\n",
    "This tutorial illustrate the use of some advanced functions of the python package *polBpy* for calculating the POS magnetic field strength using different Davis-Chandrasekhar-Fermi (DCF) approximations.\n",
    "\n",
    "This tutorial uses data from literature listed [here.](https://github.com/jorgueagui/polBpy/blob/9039d4af5d25c49130bf51be7fe0ce363424edcc/refs.md)\n",
    "\n",
    "**EXAMPLE I**: This example shows how to calculate statistical (median, 5th, 95th) values of $B_{POS}$\n",
    "  using the classical DCF approximation. We reproduce some results from Guerra et. al. (2023), which presents results of the CND using observations of SOFIA/HAWC+."
   ]
  },
  {
   "cell_type": "code",
   "execution_count": 2,
   "id": "6c89b3a8",
   "metadata": {},
   "outputs": [],
   "source": [
    "import os\n",
    "os.chdir(os.path.expanduser(\"/Users/jguerraa/Desktop/polBpy\"))\n",
    "from polBpy import DCF\n",
    "import numpy as np"
   ]
  },
  {
   "cell_type": "markdown",
   "id": "7fbbe31a",
   "metadata": {},
   "source": [
    "First, we calculate the $B_{POS}$ for the CND using the 53 $\\mu$m data and the classical DCF approximation. In this case, we use maps (rather than single values) colunm density and velocity dispersion but a single-value polarization angle dispersion (Table 5). We read these valuess from a FITS file"
   ]
  },
  {
   "cell_type": "code",
   "execution_count": 3,
   "id": "322270ce",
   "metadata": {},
   "outputs": [
    {
     "name": "stdout",
     "output_type": "stream",
     "text": [
      "Filename: /Users/jguerraa/Desktop/polBpy/tutorials/PolBpy_Tutorial_II_data.fits\n",
      "No.    Name      Ver    Type      Cards   Dimensions   Format\n",
      "  0  STOKES I      1 PrimaryHDU     566   ()      \n",
      "  1  COL_DEN       1 ImageHDU         8   (122, 126)   float64   \n",
      "  2  VEL_DISP      1 ImageHDU         8   (122, 126)   float64   \n",
      "  3  POS_VEL       1 ImageHDU         8   (122, 126)   float64   \n",
      "  4  POS_VEL_ERROR    1 ImageHDU         8   (122, 126)   float64   \n",
      "  5  POS_VEL_LAP    1 ImageHDU         8   (122, 126)   float64   \n",
      "  6  POS_VEL_LAP_ERROR    1 ImageHDU         8   (122, 126)   float64   \n",
      "None\n"
     ]
    }
   ],
   "source": [
    "from astropy.io import fits\n",
    "file = \"/Users/jguerraa/Desktop/polBpy/tutorials/PolBpy_Tutorial_II_data.fits\"\n",
    "data = fits.open(file)\n",
    "print(data.info())"
   ]
  },
  {
   "cell_type": "code",
   "execution_count": 4,
   "id": "35c58a24",
   "metadata": {},
   "outputs": [],
   "source": [
    "col_den = data['COL_DEN'].data # cm^-2\n",
    "vel_disp = data['VEL_DISP'].data # km/s"
   ]
  },
  {
   "cell_type": "markdown",
   "id": "16b3bb5c",
   "metadata": {},
   "source": [
    "While the cloud's depth and angular dispersion can be single values"
   ]
  },
  {
   "cell_type": "code",
   "execution_count": 5,
   "id": "dc5c0497",
   "metadata": {},
   "outputs": [],
   "source": [
    "cloud_depth = 3.38E+18 # cm\n",
    "ang_disp = 0.48 # rad"
   ]
  },
  {
   "cell_type": "markdown",
   "id": "f6d83fcf",
   "metadata": {},
   "source": [
    "Now we call DCF_range "
   ]
  },
  {
   "cell_type": "code",
   "execution_count": 6,
   "id": "b1227454",
   "metadata": {},
   "outputs": [
    {
     "name": "stdout",
     "output_type": "stream",
     "text": [
      "Variable:  Pol Angle dispersion is a single value. Creating an array with this value.\n"
     ]
    }
   ],
   "source": [
    "bpos = DCF.dcf_range(col_den,vel_disp,ang_disp,rho=False,m_cdepth=cloud_depth)"
   ]
  },
  {
   "cell_type": "markdown",
   "id": "b54ed0d4",
   "metadata": {},
   "source": [
    "The result of this calculation is three numbers: 5, 50, and 95 percentiles of the Bpos distribution of values."
   ]
  },
  {
   "cell_type": "code",
   "execution_count": 7,
   "id": "fa8bd541",
   "metadata": {},
   "outputs": [
    {
     "name": "stdout",
     "output_type": "stream",
     "text": [
      "Median Bpos = 7.37 [mG]\n"
     ]
    }
   ],
   "source": [
    "print(\"Median Bpos = %2.2f [mG]\"%(bpos[1]/1000.))"
   ]
  },
  {
   "cell_type": "code",
   "execution_count": 8,
   "id": "b03ed15e",
   "metadata": {},
   "outputs": [
    {
     "name": "stdout",
     "output_type": "stream",
     "text": [
      "5-percentile Bpos = 5.39 [mG]\n"
     ]
    }
   ],
   "source": [
    "print(\"5-percentile Bpos = %2.2f [mG]\"%(bpos[0]/1000.))"
   ]
  },
  {
   "cell_type": "code",
   "execution_count": 9,
   "id": "309e7819",
   "metadata": {},
   "outputs": [
    {
     "name": "stdout",
     "output_type": "stream",
     "text": [
      "95-percentile Bpos = 10.00 [mG]\n"
     ]
    }
   ],
   "source": [
    "print(\"95-percentile Bpos = %2.2f [mG]\"%(bpos[2]/1000.))"
   ]
  },
  {
   "cell_type": "markdown",
   "id": "606d333e",
   "metadata": {},
   "source": [
    "Now including the uncertainties of the used variables"
   ]
  },
  {
   "cell_type": "code",
   "execution_count": 10,
   "id": "e196bc3f",
   "metadata": {},
   "outputs": [],
   "source": [
    "ucol_den = col_den.copy()\n",
    "ucol_den[:] = 0.0\n",
    "uvel_disp = vel_disp.copy()\n",
    "uvel_disp[:] = 0.0\n",
    "uang_disp = 0.07\n",
    "ucloud_depth = 0.51E+18"
   ]
  },
  {
   "cell_type": "code",
   "execution_count": 11,
   "id": "61fc9b4d",
   "metadata": {},
   "outputs": [
    {
     "name": "stdout",
     "output_type": "stream",
     "text": [
      "Variable:  Pol Angle dispersion is a single value. Creating an array with this value.\n"
     ]
    }
   ],
   "source": [
    "bpos = DCF.dcf_range(col_den,vel_disp,ang_disp,rho=False,m_cdepth=cloud_depth,m_uden=ucol_den,m_uvel=uvel_disp,m_udisp=uang_disp,m_ucdepth=ucloud_depth)"
   ]
  },
  {
   "cell_type": "markdown",
   "id": "4b1b117b",
   "metadata": {},
   "source": [
    "In this case, each list element is a tuple in the form (median,sigma):"
   ]
  },
  {
   "cell_type": "code",
   "execution_count": 12,
   "id": "7bdc6b6b",
   "metadata": {},
   "outputs": [
    {
     "name": "stdout",
     "output_type": "stream",
     "text": [
      "Median Bpos = 7.34 +/- 1.19 [mG]\n"
     ]
    }
   ],
   "source": [
    "print(\"Median Bpos = %2.2f +/- %2.2f [mG]\"%(bpos[1][0]/1000.,bpos[1][1]/1000.))"
   ]
  },
  {
   "cell_type": "code",
   "execution_count": 13,
   "id": "9025d4e3",
   "metadata": {},
   "outputs": [
    {
     "name": "stdout",
     "output_type": "stream",
     "text": [
      "5-percentile Bpos = 5.37 +/- 0.87 [mG]\n"
     ]
    }
   ],
   "source": [
    "print(\"5-percentile Bpos = %2.2f +/- %2.2f [mG]\"%(bpos[0][0]/1000.,bpos[0][1]/1000.))"
   ]
  },
  {
   "cell_type": "code",
   "execution_count": 14,
   "id": "03662a9b",
   "metadata": {},
   "outputs": [
    {
     "name": "stdout",
     "output_type": "stream",
     "text": [
      "95-percentile Bpos = 9.96 +/- 1.62 [mG]\n"
     ]
    }
   ],
   "source": [
    "print(\"95-percentile Bpos = %2.2f +/- %2.2f [mG]\"%(bpos[2][0]/1000.,bpos[2][1]/1000.))"
   ]
  },
  {
   "cell_type": "markdown",
   "id": "b43ff850",
   "metadata": {},
   "source": [
    "**EXAMPLE II**: This example shows how to calculate statistical (median, 5th, 95th) values of $B_{POS}$\n",
    "  using the large-scale and shear flow DCF approximation. We reproduce some results from Guerra et. al. (2023), which presents results of the CND using observations of SOFIA/HAWC+.\n",
    "In this case, we need the information of the large-scale flow..."
   ]
  },
  {
   "cell_type": "code",
   "execution_count": 15,
   "id": "253b9ed3",
   "metadata": {},
   "outputs": [],
   "source": [
    "ls_flow = data['POS_VEL'].data # km/s\n",
    "ls_flow_err = data['POS_VEL_ERROR'].data # km/s"
   ]
  },
  {
   "cell_type": "markdown",
   "id": "d475f1f9",
   "metadata": {},
   "source": [
    "First, calculate the DCF using the large scale modification,"
   ]
  },
  {
   "cell_type": "code",
   "execution_count": 16,
   "id": "78e9e54f",
   "metadata": {},
   "outputs": [
    {
     "name": "stdout",
     "output_type": "stream",
     "text": [
      "Variable:  Pol Angle dispersion is a single value. Creating an array with this value.\n"
     ]
    }
   ],
   "source": [
    "bpos = DCF.dcf_range(col_den,vel_disp,ang_disp,m_flow=ls_flow,dcftype='ls-flow',rho=False,m_cdepth=cloud_depth,m_uden=ucol_den,m_uvel=uvel_disp,m_udisp=uang_disp,m_ucdepth=ucloud_depth,m_uflow=ls_flow_err)"
   ]
  },
  {
   "cell_type": "code",
   "execution_count": 17,
   "id": "b0f261d7",
   "metadata": {},
   "outputs": [
    {
     "name": "stdout",
     "output_type": "stream",
     "text": [
      "Median Bpos = 3.00 +/- 1.54 [mG]\n"
     ]
    }
   ],
   "source": [
    "print(\"Median Bpos = %2.2f +/- %2.2f [mG]\"%(bpos[1][0]/1000.,bpos[1][1]/1000.))"
   ]
  },
  {
   "cell_type": "code",
   "execution_count": 18,
   "id": "360fe4a3",
   "metadata": {},
   "outputs": [
    {
     "name": "stdout",
     "output_type": "stream",
     "text": [
      "5-percentile Bpos = 0.47 +/- 1.80 [mG]\n"
     ]
    }
   ],
   "source": [
    "print(\"5-percentile Bpos = %2.2f +/- %2.2f [mG]\"%(bpos[0][0]/1000.,bpos[0][1]/1000.))"
   ]
  },
  {
   "cell_type": "code",
   "execution_count": 19,
   "id": "124413fe",
   "metadata": {},
   "outputs": [
    {
     "name": "stdout",
     "output_type": "stream",
     "text": [
      "95-percentile Bpos = 17.59 +/- 3.39 [mG]\n"
     ]
    }
   ],
   "source": [
    "print(\"95-percentile Bpos = %2.2f +/- %2.2f [mG]\"%(bpos[2][0]/1000.,bpos[2][1]/1000.))"
   ]
  },
  {
   "cell_type": "markdown",
   "id": "69463be4",
   "metadata": {},
   "source": [
    "Next, to use the shear flow approximation, we need the Laplacian of the POS velocity field"
   ]
  },
  {
   "cell_type": "code",
   "execution_count": 20,
   "id": "1029df09",
   "metadata": {},
   "outputs": [],
   "source": [
    "ls_flow_lap = data['POS_VEL_LAP'].data # km/s/pix/pix"
   ]
  },
  {
   "cell_type": "markdown",
   "id": "7b941f43",
   "metadata": {},
   "source": [
    "In order to give the laplacian physical units of km/s, we need to choose a scale. we write c = cloud_depth/pixsize and normilized the laplacian as"
   ]
  },
  {
   "cell_type": "code",
   "execution_count": 21,
   "id": "bbfee663",
   "metadata": {},
   "outputs": [
    {
     "name": "stdout",
     "output_type": "stream",
     "text": [
      "22.533333333333335\n"
     ]
    }
   ],
   "source": [
    "pixsize = 1.50E+17\n",
    "c = cloud_depth/pixsize\n",
    "ls_flow_lap *= c**2\n",
    "print(c)"
   ]
  },
  {
   "cell_type": "code",
   "execution_count": 22,
   "id": "c7b4c488",
   "metadata": {},
   "outputs": [
    {
     "name": "stdout",
     "output_type": "stream",
     "text": [
      "Variable:  Pol Angle dispersion is a single value. Creating an array with this value.\n"
     ]
    }
   ],
   "source": [
    "bpos = DCF.dcf_range(col_den,vel_disp,ang_disp,m_flow=ls_flow,m_flow_lap=ls_flow_lap,dcftype='shear-flow',rho=False,m_cdepth=cloud_depth,m_uden=ucol_den,m_uvel=uvel_disp,m_udisp=uang_disp,m_ucdepth=ucloud_depth,m_uflow=ls_flow_err)"
   ]
  },
  {
   "cell_type": "code",
   "execution_count": 23,
   "id": "d0df5dc6",
   "metadata": {},
   "outputs": [
    {
     "name": "stdout",
     "output_type": "stream",
     "text": [
      "Median Bpos = 0.78 +/- 0.25 [mG]\n"
     ]
    }
   ],
   "source": [
    "print(\"Median Bpos = %2.2f +/- %2.2f [mG]\"%(bpos[1][0]/1000.,bpos[1][1]/1000.))"
   ]
  },
  {
   "cell_type": "code",
   "execution_count": 24,
   "id": "5f0f24ce",
   "metadata": {},
   "outputs": [
    {
     "name": "stdout",
     "output_type": "stream",
     "text": [
      "5-percentile Bpos = 0.18 +/- 0.62 [mG]\n"
     ]
    }
   ],
   "source": [
    "print(\"5-percentile Bpos = %2.2f +/- %2.2f [mG]\"%(bpos[0][0]/1000.,bpos[0][1]/1000.))"
   ]
  },
  {
   "cell_type": "code",
   "execution_count": 25,
   "id": "e51ae10d",
   "metadata": {},
   "outputs": [
    {
     "name": "stdout",
     "output_type": "stream",
     "text": [
      "95-percentile Bpos = 2.43 +/- 0.94 [mG]\n"
     ]
    }
   ],
   "source": [
    "print(\"95-percentile Bpos = %2.2f +/- %2.2f [mG]\"%(bpos[2][0]/1000.,bpos[2][1]/1000.))"
   ]
  },
  {
   "cell_type": "code",
   "execution_count": 26,
   "id": "4eeed52d",
   "metadata": {},
   "outputs": [
    {
     "data": {
      "text/plain": [
       "-11437.73052297595"
      ]
     },
     "execution_count": 26,
     "metadata": {},
     "output_type": "execute_result"
    }
   ],
   "source": [
    "np.nanmin(ls_flow_lap)"
   ]
  },
  {
   "cell_type": "code",
   "execution_count": 27,
   "id": "f353652b",
   "metadata": {},
   "outputs": [
    {
     "data": {
      "text/plain": [
       "12985.64107936277"
      ]
     },
     "execution_count": 27,
     "metadata": {},
     "output_type": "execute_result"
    }
   ],
   "source": [
    "np.nanmax(ls_flow_lap)"
   ]
  },
  {
   "cell_type": "code",
   "execution_count": null,
   "id": "ec07c169",
   "metadata": {},
   "outputs": [],
   "source": []
  }
 ],
 "metadata": {
  "kernelspec": {
   "display_name": "Python 3 (ipykernel)",
   "language": "python",
   "name": "python3"
  },
  "language_info": {
   "codemirror_mode": {
    "name": "ipython",
    "version": 3
   },
   "file_extension": ".py",
   "mimetype": "text/x-python",
   "name": "python",
   "nbconvert_exporter": "python",
   "pygments_lexer": "ipython3",
   "version": "3.9.13"
  }
 },
 "nbformat": 4,
 "nbformat_minor": 5
}
