{
 "cells": [
  {
   "cell_type": "code",
   "execution_count": 1,
   "id": "c55f34a6",
   "metadata": {},
   "outputs": [],
   "source": [
    "%matplotlib inline"
   ]
  },
  {
   "cell_type": "markdown",
   "id": "83959be0",
   "metadata": {},
   "source": [
    "# PLANE OF SKY (POS) MAGNETIC FIELD STRENGTH\n",
    "Author: Jordan Guerra (for Villanova University). December 2023.\n",
    "\n",
    "The purpose of this tuturial is to illustrate the use of the python package polBpy for the analysis of dust polarimetric observations to determine the magnetoturbulent properties of the gas and magnetic field strength. This tutorial will demonstrate:\n",
    "1. How to estimate the polarization angle dispersion according to the Houde et. al. (2009) method.\n",
    "2. To calculate the POS magnetic field strength using few DCF approximations: classical (Davis 1953, Fermi-Chandrasekhar 1953), compressional (Skadilis 2021), and shear-flow (Guerra 2020)."
   ]
  },
  {
   "cell_type": "markdown",
   "id": "896d3dfa",
   "metadata": {},
   "source": [
    "**EXAMPLE I:** First we reproduce some results from Chuss et. al. (2019) using SOFIA/HAWC+ observations of OMC-1."
   ]
  },
  {
   "cell_type": "code",
   "execution_count": 2,
   "id": "fafb91fd",
   "metadata": {},
   "outputs": [],
   "source": [
    "import os\n",
    "os.chdir(os.path.expanduser(\"/Users/jguerraa/Desktop/polb_dev\"))\n",
    "from polBpy import DCF"
   ]
  },
  {
   "cell_type": "markdown",
   "id": "35ca9502",
   "metadata": {},
   "source": [
    "First we calculate the POS B-field strength using the DCF approximation and values in Table 5 of Chuss+19, specifically"
   ]
  },
  {
   "cell_type": "code",
   "execution_count": 3,
   "id": "d6cf6b02",
   "metadata": {},
   "outputs": [],
   "source": [
    "col_den = 9.85E+22 #cm^-2\n",
    "vel_disp = 1.85 #kms-1\n",
    "cloud_depth = 4.34E+17 #cm\n",
    "ang_disp = (0.37)**0.5 # Root-square of <B_t^2>/<B_0^2>"
   ]
  },
  {
   "cell_type": "code",
   "execution_count": 4,
   "id": "3e0d109f",
   "metadata": {},
   "outputs": [],
   "source": [
    "bpos = DCF.dcf_classical(col_den,vel_disp,ang_disp,rho=False,cdepth=cloud_depth)"
   ]
  },
  {
   "cell_type": "code",
   "execution_count": 5,
   "id": "35a832d0",
   "metadata": {},
   "outputs": [
    {
     "name": "stdout",
     "output_type": "stream",
     "text": [
      "(1111.9107639357849, 0.0)\n"
     ]
    }
   ],
   "source": [
    "print(bpos) # In micro Gauss"
   ]
  },
  {
   "cell_type": "markdown",
   "id": "09f3694c",
   "metadata": {},
   "source": [
    "EXAMPLE II: Let us reproduce the calcuations from Lopez-Rodriguez+21.\n",
    "First, using the classical approximation, and the \"simple\" angle dispersion"
   ]
  },
  {
   "cell_type": "code",
   "execution_count": 6,
   "id": "2a253a4f",
   "metadata": {},
   "outputs": [],
   "source": [
    "col_den = 1.78E-22 #g cm^-3\n",
    "vel_disp = 66.0 #km s^-1\n",
    "ang_disp = 0.29 # rad\n",
    "u_col_den = 0.45E-22\n",
    "u_vel_disp = 6.6 # km s^-1\n",
    "eta = 0.5 #"
   ]
  },
  {
   "cell_type": "code",
   "execution_count": 7,
   "id": "38eccb15",
   "metadata": {},
   "outputs": [],
   "source": [
    "bpos = DCF.dcf_classical(col_den,vel_disp,ang_disp,rho=True,eta=eta,uden=u_col_den,uvel=u_vel_disp)"
   ]
  },
  {
   "cell_type": "code",
   "execution_count": 8,
   "id": "57f3bf85",
   "metadata": {},
   "outputs": [
    {
     "name": "stdout",
     "output_type": "stream",
     "text": [
      "(538.1841151602063, 86.74301945129082)\n"
     ]
    }
   ],
   "source": [
    "print(bpos) # In micro Gauss"
   ]
  },
  {
   "cell_type": "markdown",
   "id": "35c61f57",
   "metadata": {},
   "source": [
    "Let us calculate the Bpos value by using the large-scale flow modified DCF,"
   ]
  },
  {
   "cell_type": "code",
   "execution_count": 74,
   "id": "60f03a9d",
   "metadata": {},
   "outputs": [],
   "source": [
    "ls_flow = 396.\n",
    "u_ls_flow = 87."
   ]
  },
  {
   "cell_type": "code",
   "execution_count": 75,
   "id": "8bfbdcd8",
   "metadata": {},
   "outputs": [],
   "source": [
    "bpos = DCF.dcf_ls_flow(col_den,vel_disp,ang_disp,ls_flow,rho=True,eta=eta,uden=u_col_den,uvel=u_vel_disp,uflow=u_ls_flow)"
   ]
  },
  {
   "cell_type": "code",
   "execution_count": 76,
   "id": "2e6df6a1",
   "metadata": {},
   "outputs": [
    {
     "name": "stdout",
     "output_type": "stream",
     "text": [
      "(346.5383815202116, 218.4599436451991)\n"
     ]
    }
   ],
   "source": [
    "print(bpos)"
   ]
  },
  {
   "cell_type": "markdown",
   "id": "6aca3a9f",
   "metadata": {},
   "source": [
    "Now using the angle dispersion from the dispersion function analysis"
   ]
  },
  {
   "cell_type": "code",
   "execution_count": 77,
   "id": "d3a82b9d",
   "metadata": {},
   "outputs": [],
   "source": [
    "ang_disp = (0.07)**0.5 # Root-square of <B_t^2>/<B_0^2>"
   ]
  },
  {
   "cell_type": "code",
   "execution_count": 78,
   "id": "05da197b",
   "metadata": {},
   "outputs": [],
   "source": [
    "bpos = DCF.dcf_classical(col_den,vel_disp,ang_disp,rho=True,uden=u_col_den,uvel=u_vel_disp)"
   ]
  },
  {
   "cell_type": "code",
   "execution_count": 79,
   "id": "bb05b84e",
   "metadata": {},
   "outputs": [
    {
     "name": "stdout",
     "output_type": "stream",
     "text": [
      "(1179.8039577170946, 190.15752187799043)\n"
     ]
    }
   ],
   "source": [
    "print(bpos)"
   ]
  },
  {
   "cell_type": "markdown",
   "id": "22f6af47",
   "metadata": {},
   "source": [
    "Now using the large-scale flow modification"
   ]
  },
  {
   "cell_type": "code",
   "execution_count": 80,
   "id": "61953d48",
   "metadata": {},
   "outputs": [],
   "source": [
    "bpos = DCF.dcf_ls_flow(col_den,vel_disp,ang_disp,ls_flow,rho=True,uden=u_col_den,uvel=u_vel_disp,uflow=u_ls_flow)"
   ]
  },
  {
   "cell_type": "code",
   "execution_count": 81,
   "id": "b2847893",
   "metadata": {},
   "outputs": [
    {
     "name": "stdout",
     "output_type": "stream",
     "text": [
      "(693.0767630404232, 436.9198872903982)\n"
     ]
    }
   ],
   "source": [
    "print(bpos)"
   ]
  },
  {
   "cell_type": "code",
   "execution_count": null,
   "id": "d9dad754",
   "metadata": {},
   "outputs": [],
   "source": []
  },
  {
   "cell_type": "code",
   "execution_count": null,
   "id": "1499f017",
   "metadata": {},
   "outputs": [],
   "source": []
  },
  {
   "cell_type": "code",
   "execution_count": null,
   "id": "5f2cf0aa",
   "metadata": {},
   "outputs": [],
   "source": []
  }
 ],
 "metadata": {
  "kernelspec": {
   "display_name": "Python 3 (ipykernel)",
   "language": "python",
   "name": "python3"
  },
  "language_info": {
   "codemirror_mode": {
    "name": "ipython",
    "version": 3
   },
   "file_extension": ".py",
   "mimetype": "text/x-python",
   "name": "python",
   "nbconvert_exporter": "python",
   "pygments_lexer": "ipython3",
   "version": "3.9.13"
  }
 },
 "nbformat": 4,
 "nbformat_minor": 5
}
