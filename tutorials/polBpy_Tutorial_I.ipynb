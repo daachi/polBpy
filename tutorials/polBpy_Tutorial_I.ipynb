{
 "cells": [
  {
   "cell_type": "code",
   "execution_count": 1,
   "id": "c55f34a6",
   "metadata": {},
   "outputs": [],
   "source": [
    "%matplotlib inline"
   ]
  },
  {
   "cell_type": "markdown",
   "id": "83959be0",
   "metadata": {},
   "source": [
    "# PLANE OF SKY (POS) MAGNETIC FIELD STRENGTH I\n",
    "Author: Jordan Guerra (for Villanova University). December 2023.\n",
    "\n",
    "The purpose of this tutorial is to illustrate the use of the python package *polBpy* for calculating the POS magnetic field strength using different Davis-Chandrasekhar-Fermi (DCF) approximations.\n",
    "\n",
    "This tutorial uses data from literature listed [here.](https://github.com/jorgueagui/polBpy/blob/9039d4af5d25c49130bf51be7fe0ce363424edcc/refs.md)"
   ]
  },
  {
   "cell_type": "markdown",
   "id": "896d3dfa",
   "metadata": {},
   "source": [
    "**EXAMPLE I:** This example shows the most basic use of *polBpy*, calculating $B_{POS}$ using the classical DCF approximation. We reproduce some results from Chuss et. al. (2019), which presents results of OMC-1 using observations of SOFIA/HAWC+."
   ]
  },
  {
   "cell_type": "code",
   "execution_count": 2,
   "id": "fafb91fd",
   "metadata": {},
   "outputs": [],
   "source": [
    "import os\n",
    "os.chdir(os.path.expanduser(\"/Users/jguerraa/Desktop/polBpy\"))\n",
    "from polBpy import DCF"
   ]
  },
  {
   "cell_type": "markdown",
   "id": "35ca9502",
   "metadata": {},
   "source": [
    "Let us calculate $B_{POS}$ for the BN/KL region (Figure 8), using the 53 $\\mu$m data. Values necessary for this calcuation can found in (and around) Table 5 of Chuss+19. "
   ]
  },
  {
   "cell_type": "code",
   "execution_count": 3,
   "id": "d6cf6b02",
   "metadata": {},
   "outputs": [],
   "source": [
    "col_den = 9.85E+22 # cm^-2\n",
    "vel_disp = 1.85 # km/s\n",
    "cloud_depth = 4.34E+17 # cm\n",
    "ang_disp = (0.37)**0.5 # Root-square of <B_t^2>/<B_0^2>"
   ]
  },
  {
   "cell_type": "code",
   "execution_count": 4,
   "id": "3e0d109f",
   "metadata": {},
   "outputs": [],
   "source": [
    "bpos = DCF.dcf_classical(col_den,vel_disp,ang_disp,rho=False,cdepth=cloud_depth)"
   ]
  },
  {
   "cell_type": "markdown",
   "id": "95c70db3",
   "metadata": {},
   "source": [
    "The option rho=False (default) is used since the density value is colunm density."
   ]
  },
  {
   "cell_type": "code",
   "execution_count": 5,
   "id": "35a832d0",
   "metadata": {},
   "outputs": [
    {
     "name": "stdout",
     "output_type": "stream",
     "text": [
      "(1111.9107639357849, 0.0)\n"
     ]
    }
   ],
   "source": [
    "print(bpos) # Result is in micro G"
   ]
  },
  {
   "cell_type": "markdown",
   "id": "e2549cdc",
   "metadata": {},
   "source": [
    "Comment: the resulting $B_{POS}$ is slightly larger than that reported in Chuss+19 because (most likely) the used value of $\\mu$(mean molecular weight) was lower than the one implemented in *polBpy* ($\\mu$=2.8)."
   ]
  },
  {
   "cell_type": "markdown",
   "id": "09f3694c",
   "metadata": {},
   "source": [
    "**EXAMPLE II:** Now we reproduce the calcuations from Lopez-Rodriguez+21. In this example we can use the built-in option for calculating the associated uncertainty for $B_{POS}$."
   ]
  },
  {
   "cell_type": "markdown",
   "id": "be3eeef3",
   "metadata": {},
   "source": [
    "First, using the classical approximation, and the simple (e.g. $\\sigma$ value of the PA distribution) angle dispersion. In this case, a correction factor ($\\eta$=0.5; Ostriker+2001) can be used,"
   ]
  },
  {
   "cell_type": "code",
   "execution_count": 6,
   "id": "2a253a4f",
   "metadata": {},
   "outputs": [],
   "source": [
    "col_den = 1.78E-22 #g cm^-3\n",
    "vel_disp = 66.0 #km s^-1\n",
    "ang_disp = 0.29 # rad\n",
    "u_col_den = 0.45E-22\n",
    "u_vel_disp = 6.6 # km s^-1\n",
    "eta = 0.5 #"
   ]
  },
  {
   "cell_type": "code",
   "execution_count": 7,
   "id": "38eccb15",
   "metadata": {},
   "outputs": [],
   "source": [
    "bpos = DCF.dcf_classical(col_den,vel_disp,ang_disp,rho=True,eta=eta,uden=u_col_den,uvel=u_vel_disp)"
   ]
  },
  {
   "cell_type": "markdown",
   "id": "8d4896f8",
   "metadata": {},
   "source": [
    "In this case the option rho=True is used since density is true mass density, and no depth of the cloud is needed."
   ]
  },
  {
   "cell_type": "code",
   "execution_count": 8,
   "id": "57f3bf85",
   "metadata": {},
   "outputs": [
    {
     "name": "stdout",
     "output_type": "stream",
     "text": [
      "(538.1841151602063, 86.74301945129082)\n"
     ]
    }
   ],
   "source": [
    "print(bpos) # In micro G"
   ]
  },
  {
   "cell_type": "markdown",
   "id": "17f92dc4",
   "metadata": {},
   "source": [
    "This result is interpreted as $B_{POS}=538\\pm87$ $\\mu$G."
   ]
  },
  {
   "cell_type": "markdown",
   "id": "35c61f57",
   "metadata": {},
   "source": [
    "Now, let us calculate $B_{POS}$ by using the large-scale flow modified DCF. Using the same values above, we specified the flow values,"
   ]
  },
  {
   "cell_type": "code",
   "execution_count": 9,
   "id": "60f03a9d",
   "metadata": {},
   "outputs": [],
   "source": [
    "ls_flow = 396.\n",
    "u_ls_flow = 87."
   ]
  },
  {
   "cell_type": "code",
   "execution_count": 10,
   "id": "8bfbdcd8",
   "metadata": {},
   "outputs": [],
   "source": [
    "bpos = DCF.dcf_ls_flow(col_den,vel_disp,ang_disp,ls_flow,rho=True,eta=eta,uden=u_col_den,uvel=u_vel_disp,uflow=u_ls_flow)"
   ]
  },
  {
   "cell_type": "code",
   "execution_count": 11,
   "id": "2e6df6a1",
   "metadata": {},
   "outputs": [
    {
     "name": "stdout",
     "output_type": "stream",
     "text": [
      "(398.2562452185525, 218.53326571534362)\n"
     ]
    }
   ],
   "source": [
    "print(bpos) # In micro G"
   ]
  },
  {
   "cell_type": "markdown",
   "id": "6aca3a9f",
   "metadata": {},
   "source": [
    "A different $B_{POS}$ can be calculated using the same DCF approximations but now using an angle dispersion value from the dispersion-function analysis. In this case, no correction factor is needed ($\\eta=1.0$ - default value)."
   ]
  },
  {
   "cell_type": "code",
   "execution_count": 12,
   "id": "d3a82b9d",
   "metadata": {},
   "outputs": [],
   "source": [
    "ang_disp = (0.07)**0.5 # Root-square of <B_t^2>/<B_0^2>\n",
    "u_ang_disp = (0.01)**0.5"
   ]
  },
  {
   "cell_type": "code",
   "execution_count": 13,
   "id": "05da197b",
   "metadata": {},
   "outputs": [],
   "source": [
    "bpos = DCF.dcf_classical(col_den,vel_disp,ang_disp,rho=True,uden=u_col_den,uvel=u_vel_disp,udisp=u_ang_disp)"
   ]
  },
  {
   "cell_type": "code",
   "execution_count": 14,
   "id": "bb05b84e",
   "metadata": {},
   "outputs": [
    {
     "name": "stdout",
     "output_type": "stream",
     "text": [
      "(1179.8039577170946, 484.776319632109)\n"
     ]
    }
   ],
   "source": [
    "print(bpos) # In micro G"
   ]
  },
  {
   "cell_type": "markdown",
   "id": "22f6af47",
   "metadata": {},
   "source": [
    "Now using the large-scale flow modification"
   ]
  },
  {
   "cell_type": "code",
   "execution_count": 15,
   "id": "61953d48",
   "metadata": {},
   "outputs": [],
   "source": [
    "bpos = DCF.dcf_ls_flow(col_den,vel_disp,ang_disp,ls_flow,rho=True,uden=u_col_den,uvel=u_vel_disp,uflow=u_ls_flow)"
   ]
  },
  {
   "cell_type": "code",
   "execution_count": 16,
   "id": "b2847893",
   "metadata": {},
   "outputs": [
    {
     "name": "stdout",
     "output_type": "stream",
     "text": [
      "(693.0767630404232, 436.9198872903982)\n"
     ]
    }
   ],
   "source": [
    "print(bpos) # In micro G"
   ]
  },
  {
   "cell_type": "markdown",
   "id": "95bc48d2",
   "metadata": {},
   "source": [
    "Comments:"
   ]
  },
  {
   "cell_type": "code",
   "execution_count": null,
   "id": "1499f017",
   "metadata": {},
   "outputs": [],
   "source": []
  },
  {
   "cell_type": "code",
   "execution_count": null,
   "id": "5f2cf0aa",
   "metadata": {},
   "outputs": [],
   "source": []
  }
 ],
 "metadata": {
  "kernelspec": {
   "display_name": "Python 3 (ipykernel)",
   "language": "python",
   "name": "python3"
  },
  "language_info": {
   "codemirror_mode": {
    "name": "ipython",
    "version": 3
   },
   "file_extension": ".py",
   "mimetype": "text/x-python",
   "name": "python",
   "nbconvert_exporter": "python",
   "pygments_lexer": "ipython3",
   "version": "3.9.13"
  }
 },
 "nbformat": 4,
 "nbformat_minor": 5
}
